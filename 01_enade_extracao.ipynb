{
 "cells": [
  {
   "cell_type": "markdown",
   "id": "1d7ba31b-c066-4495-8a10-3a98fcb8ea68",
   "metadata": {},
   "source": [
    "Extração dos dados do Enade"
   ]
  },
  {
   "cell_type": "code",
   "execution_count": 1,
   "id": "f6d3548f-58f3-4d9d-8e1c-8c13f398f643",
   "metadata": {
    "tags": []
   },
   "outputs": [],
   "source": [
    "# Importar bibliotecas necessárias\n",
    "import pandas as pd\n",
    "import numpy as np\n",
    "import zipfile\n",
    "import requests\n",
    "import ssl\n",
    "import certifi\n",
    "import urllib3\n",
    "from io import BytesIO\n",
    "import os\n",
    "import glob"
   ]
  },
  {
   "cell_type": "code",
   "execution_count": null,
   "id": "f8fa36f3-2eac-44b5-b63e-5e51d513e5cb",
   "metadata": {
    "tags": []
   },
   "outputs": [],
   "source": [
    "# Criar um diretório para armazenar o conteúdo do ENADE\n",
    "os.makedirs('./enade2021', exist_ok=True)"
   ]
  },
  {
   "cell_type": "code",
   "execution_count": null,
   "id": "7ece0521-401a-4143-aa8a-0d8303813514",
   "metadata": {
    "tags": []
   },
   "outputs": [],
   "source": [
    "# Define a url\n",
    "url = 'https://download.inep.gov.br/microdados/microdados_enade_2019.zip'\n",
    "\n",
    "# Faz o download do conteúdo\n",
    "filesbytes = BytesIO(\n",
    "    requests.get(url).content\n",
    ")\n",
    "\n",
    "# Extrair o conteúdo do zipfile\n",
    "myzip = zipfile.Zipfile(filebytes)\n",
    "myzip.extractall(\"./enade2021\")"
   ]
  },
  {
   "cell_type": "markdown",
   "id": "2d137ec9-5635-499e-9178-f6d0c8f93239",
   "metadata": {},
   "source": [
    "Verfificando os dados baixados"
   ]
  },
  {
   "cell_type": "code",
   "execution_count": 19,
   "id": "e5f45ea1-5fb6-480e-91f8-6acdf1e66604",
   "metadata": {
    "tags": []
   },
   "outputs": [
    {
     "name": "stdout",
     "output_type": "stream",
     "text": [
      "     NU_ANO  CO_CURSO   CO_IES  CO_CATEGAD  CO_ORGACAD  CO_GRUPO  \\\n",
      "507    2021    110000    143.0         5.0     10028.0    2001.0   \n",
      "818    2021   1160847   3368.0         5.0     10020.0    4301.0   \n",
      "452    2021   1442114  18165.0         2.0     10028.0    2001.0   \n",
      "368    2021     12916    574.0         1.0     10028.0    1602.0   \n",
      "242    2021   1119382    163.0         4.0     10028.0    4006.0   \n",
      "929    2021   1137223   2111.0         5.0     10020.0    2001.0   \n",
      "262    2021    150203    438.0         5.0     10022.0    2001.0   \n",
      "810    2021      3416     57.0         2.0     10028.0    2001.0   \n",
      "318    2021     98892   1491.0         4.0     10020.0    2001.0   \n",
      "49     2021     34704   1365.0         5.0     10020.0     904.0   \n",
      "446    2021   1075632  13488.0         5.0     10022.0    2001.0   \n",
      "142    2021     89012    167.0         5.0     10028.0    4006.0   \n",
      "968    2021   1174338  23410.0         2.0     10028.0    1602.0   \n",
      "345    2021   1127191    583.0         1.0     10028.0      79.0   \n",
      "971    2021     96655    953.0         5.0     10028.0    2001.0   \n",
      "133    2021    313974    583.0         1.0     10028.0    1601.0   \n",
      "104    2021     62458    322.0         4.0     10028.0    2001.0   \n",
      "6      2021     89380    298.0         4.0     10028.0    2001.0   \n",
      "600    2021   1486168   1709.0         4.0     10020.0      72.0   \n",
      "496    2021   1314234   1491.0         4.0     10020.0    2402.0   \n",
      "702    2021    111270   1196.0         4.0     10028.0    2001.0   \n",
      "472    2021   1135060   2111.0         5.0     10020.0    3502.0   \n",
      "598    2021     53534    830.0         1.0     10028.0     905.0   \n",
      "502    2021    100309    322.0         4.0     10028.0     702.0   \n",
      "433    2021     65938   2556.0         4.0     10020.0    4301.0   \n",
      "119    2021   1166899     40.0         2.0     10028.0    5402.0   \n",
      "108    2021     89380    298.0         4.0     10028.0    2001.0   \n",
      "647    2021   1143418    125.0         5.0     10020.0     905.0   \n",
      "589    2021    100309    322.0         4.0     10028.0     702.0   \n",
      "374    2021    100305    322.0         4.0     10028.0    2001.0   \n",
      "\n",
      "     CO_MODALIDADE  CO_MUNIC_CURSO  CO_UF_CURSO  CO_REGIAO_CURSO  ... QE_I88  \\\n",
      "507            0.0       3170107.0         31.0              3.0  ...    NaN   \n",
      "818            0.0       3170701.0         31.0              3.0  ...    NaN   \n",
      "452            0.0       3550308.0         35.0              3.0  ...    NaN   \n",
      "368            1.0       3305554.0         33.0              3.0  ...    NaN   \n",
      "242            0.0       3304557.0         33.0              3.0  ...    NaN   \n",
      "929            0.0       2312908.0         23.0              2.0  ...    NaN   \n",
      "262            0.0       3524105.0         35.0              3.0  ...    NaN   \n",
      "810            1.0       4115200.0         41.0              4.0  ...    NaN   \n",
      "318            0.0       3304557.0         33.0              3.0  ...    NaN   \n",
      "49             1.0       3515152.0         35.0              3.0  ...    NaN   \n",
      "446            1.0       3550308.0         35.0              3.0  ...    NaN   \n",
      "142            1.0       3548708.0         35.0              3.0  ...    NaN   \n",
      "968            1.0       2105302.0         21.0              2.0  ...    NaN   \n",
      "345            1.0       2311306.0         23.0              2.0  ...    NaN   \n",
      "971            0.0       3548500.0         35.0              3.0  ...    NaN   \n",
      "133            1.0       2304400.0         23.0              2.0  ...    NaN   \n",
      "104            1.0       3550308.0         35.0              3.0  ...    NaN   \n",
      "6              0.0       3106200.0         31.0              3.0  ...    NaN   \n",
      "600            1.0       2611606.0         26.0              2.0  ...    NaN   \n",
      "496            0.0       4106902.0         41.0              4.0  ...    NaN   \n",
      "702            0.0       4115200.0         41.0              4.0  ...    NaN   \n",
      "472            0.0       2312908.0         23.0              2.0  ...    NaN   \n",
      "598            1.0       1600303.0         16.0              1.0  ...    NaN   \n",
      "502            0.0       3550308.0         35.0              3.0  ...    NaN   \n",
      "433            1.0       3550308.0         35.0              3.0  ...    NaN   \n",
      "119            1.0       2927408.0         29.0              2.0  ...    NaN   \n",
      "108            0.0       3106200.0         31.0              3.0  ...    NaN   \n",
      "647            0.0       3503307.0         35.0              3.0  ...    NaN   \n",
      "589            0.0       3550308.0         35.0              3.0  ...    NaN   \n",
      "374            0.0       3550308.0         35.0              3.0  ...    NaN   \n",
      "\n",
      "    QE_I89 QE_I90 QE_I91 QE_I92 TP_SEXO NU_IDADE QE_I01 QE_I02 QE_I03  \n",
      "507    NaN    NaN    NaN    NaN     NaN      NaN    NaN    NaN    NaN  \n",
      "818    NaN    NaN    NaN    NaN     NaN      NaN    NaN    NaN    NaN  \n",
      "452    NaN    NaN    NaN    NaN     NaN      NaN    NaN    NaN    NaN  \n",
      "368    NaN    NaN    NaN    NaN     NaN      NaN    NaN    NaN    NaN  \n",
      "242    NaN    NaN    NaN    NaN     NaN      NaN    NaN    NaN    NaN  \n",
      "929    NaN    NaN    NaN    NaN     NaN      NaN    NaN    NaN    NaN  \n",
      "262    NaN    NaN    NaN    NaN     NaN      NaN    NaN    NaN    NaN  \n",
      "810    NaN    NaN    NaN    NaN     NaN      NaN    NaN    NaN    NaN  \n",
      "318    NaN    NaN    NaN    NaN     NaN      NaN    NaN    NaN    NaN  \n",
      "49     NaN    NaN    NaN    NaN     NaN      NaN    NaN    NaN    NaN  \n",
      "446    NaN    NaN    NaN    NaN     NaN      NaN    NaN    NaN    NaN  \n",
      "142    NaN    NaN    NaN    NaN     NaN      NaN    NaN    NaN    NaN  \n",
      "968    NaN    NaN    NaN    NaN     NaN      NaN    NaN    NaN    NaN  \n",
      "345    NaN    NaN    NaN    NaN     NaN      NaN    NaN    NaN    NaN  \n",
      "971    NaN    NaN    NaN    NaN     NaN      NaN    NaN    NaN    NaN  \n",
      "133    NaN    NaN    NaN    NaN     NaN      NaN    NaN    NaN    NaN  \n",
      "104    NaN    NaN    NaN    NaN     NaN      NaN    NaN    NaN    NaN  \n",
      "6      NaN    NaN    NaN    NaN     NaN      NaN    NaN    NaN    NaN  \n",
      "600    NaN    NaN    NaN    NaN     NaN      NaN    NaN    NaN    NaN  \n",
      "496    NaN    NaN    NaN    NaN     NaN      NaN    NaN    NaN    NaN  \n",
      "702    NaN    NaN    NaN    NaN     NaN      NaN    NaN    NaN    NaN  \n",
      "472    NaN    NaN    NaN    NaN     NaN      NaN    NaN    NaN    NaN  \n",
      "598    NaN    NaN    NaN    NaN     NaN      NaN    NaN    NaN    NaN  \n",
      "502    NaN    NaN    NaN    NaN     NaN      NaN    NaN    NaN    NaN  \n",
      "433    NaN    NaN    NaN    NaN     NaN      NaN    NaN    NaN    NaN  \n",
      "119    NaN    NaN    NaN    NaN     NaN      NaN    NaN    NaN    NaN  \n",
      "108    NaN    NaN    NaN    NaN     NaN      NaN    NaN    NaN    NaN  \n",
      "647    NaN    NaN    NaN    NaN     NaN      NaN    NaN    NaN    NaN  \n",
      "589    NaN    NaN    NaN    NaN     NaN      NaN    NaN    NaN    NaN  \n",
      "374    NaN    NaN    NaN    NaN     NaN      NaN    NaN    NaN    NaN  \n",
      "\n",
      "[30 rows x 157 columns]\n"
     ]
    }
   ],
   "source": [
    "# Define a pattern to match the CSV files you want to read\n",
    "file_pattern = './enade2021/2.DADOS/*.txt'\n",
    "\n",
    "# Create an empty list to store individual DataFrames\n",
    "enade = []\n",
    "\n",
    "# Use glob to get a list of file paths that match the pattern\n",
    "file_paths = glob.glob(file_pattern)\n",
    "\n",
    "# Iterate through the list of file paths and read each CSV file\n",
    "for file_path in file_paths:\n",
    "    # Read CSV into a DataFrame, handle potential errors with `error_bad_lines` parameter\n",
    "    try:\n",
    "        df = pd.read_csv(file_path, sep = \";\", decimal = \".\", low_memory = False)\n",
    "        enade.append(df)\n",
    "    except pd.errors.EmptyDataError:\n",
    "        print(f\"Skipping empty file: {file_path}\")\n",
    "    except pd.errors.ParserError:\n",
    "        print(f\"Skipping file with parsing error: {file_path}\")\n",
    "        \n",
    "sample_size = 1000  # Adjust the sample size as needed\n",
    "sampled_data = []\n",
    "\n",
    "for df in enade:\n",
    "    if len(df) > sample_size:\n",
    "        sampled_data.append(df.sample(n=sample_size, random_state=1))\n",
    "    else:\n",
    "        sampled_data.append(df)\n",
    "\n",
    "combined_data = pd.concat(sampled_data, ignore_index=True)\n",
    "\n",
    "combined_data_clean = combined_data[combined_data['CO_IES'].notna()]\n",
    "\n",
    "# Sample 10 rows from the combined DataFrame\n",
    "enade_amostra = combined_data_clean.sample(n=30, random_state=1)\n",
    "\n",
    "# Display the sample\n",
    "print(enade_amostra)"
   ]
  },
  {
   "cell_type": "code",
   "execution_count": null,
   "id": "c67ba9d9-8017-4779-bde8-3a90d8c02daf",
   "metadata": {
    "tags": []
   },
   "outputs": [],
   "source": [
    "enade_amostra.info()"
   ]
  },
  {
   "cell_type": "code",
   "execution_count": null,
   "id": "d0f8a58d-c4b7-4cba-a7ed-576406365021",
   "metadata": {},
   "outputs": [],
   "source": [
    "dict(enade_amostra.dtypes)"
   ]
  },
  {
   "cell_type": "code",
   "execution_count": 20,
   "id": "2f7d260e-80f6-4419-94bd-b383d3f52c94",
   "metadata": {},
   "outputs": [],
   "source": [
    "# exportando oo dataframe para um arquivo csv\n",
    "enade_amostra.to_csv('./enade2021/2.DADOS/enade.csv', index=False)"
   ]
  },
  {
   "cell_type": "code",
   "execution_count": null,
   "id": "947c577c-8d8d-4035-afe6-c0d9142bbcf6",
   "metadata": {},
   "outputs": [],
   "source": []
  }
 ],
 "metadata": {
  "kernelspec": {
   "display_name": "Python 3 (ipykernel)",
   "language": "python",
   "name": "python3"
  },
  "language_info": {
   "codemirror_mode": {
    "name": "ipython",
    "version": 3
   },
   "file_extension": ".py",
   "mimetype": "text/x-python",
   "name": "python",
   "nbconvert_exporter": "python",
   "pygments_lexer": "ipython3",
   "version": "3.11.5"
  }
 },
 "nbformat": 4,
 "nbformat_minor": 5
}
